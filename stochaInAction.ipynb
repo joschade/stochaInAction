{
 "cells": [
  {
   "attachments": {},
   "cell_type": "markdown",
   "id": "2a9f4b41-526d-47fc-bee9-5cce1b924639",
   "metadata": {},
   "source": [
    "Seminar Stochastik in Aktion, Johannes Schade"
   ]
  },
  {
   "attachments": {},
   "cell_type": "markdown",
   "id": "4ef819c0-a104-463f-a2b5-da64b7e0afcf",
   "metadata": {},
   "source": [
    "# Walker's Trick (Alias Method)"
   ]
  },
  {
   "attachments": {},
   "cell_type": "markdown",
   "id": "6410a8e4-e57d-4d95-b759-8500fd9c1c70",
   "metadata": {},
   "source": [
    "First, we import the necessary libraries and methods:"
   ]
  },
  {
   "cell_type": "code",
   "execution_count": null,
   "id": "9943ef5f-ca12-4eec-a2b4-cecb7c062bc8",
   "metadata": {},
   "outputs": [],
   "source": [
    "import numpy as np\n",
    "from math import exp, factorial\n",
    "import matplotlib.pyplot as plt"
   ]
  },
  {
   "attachments": {},
   "cell_type": "markdown",
   "id": "09e74d93-8be4-4712-938c-68e72022c529",
   "metadata": {},
   "source": [
    "Define the Poisson probability function \n",
    "$p_\\lambda(k) = \\lambda^k \\frac{e^{-\\lambda}}{k!}$:"
   ]
  },
  {
   "cell_type": "code",
   "execution_count": null,
   "id": "0a5501cc-97a1-412d-934f-15700ef40833",
   "metadata": {},
   "outputs": [],
   "source": [
    "def poisson (k, lam=1):\n",
    "    return lam**k * exp(-lam)/factorial(k)"
   ]
  },
  {
   "cell_type": "code",
   "execution_count": null,
   "id": "56cf7c54-ff75-4400-88f6-694672a24b25",
   "metadata": {},
   "outputs": [],
   "source": [
    "# Set cut-off value for infinite discrete probability distribution:\n",
    "n=20\n",
    "\n",
    "# Store first n-2 values\n",
    "d = [poisson(i, lam = 4) for i in range(n-1)]\n",
    "# append last value s.t. sum(p)=1 to achieve proper probablity distribution\n",
    "d.append(1-sum(d))\n",
    "\n",
    "print(f'd={d}')"
   ]
  },
  {
   "attachments": {},
   "cell_type": "markdown",
   "id": "f22c6775-a3b1-444e-824e-25f57b09669d",
   "metadata": {},
   "source": [
    "Plot for plausibility:"
   ]
  },
  {
   "cell_type": "code",
   "execution_count": null,
   "id": "b34e211b-ce09-4010-a5db-2f28ced78772",
   "metadata": {},
   "outputs": [],
   "source": [
    "plt.bar([i for i in range(len(d))], d)"
   ]
  },
  {
   "attachments": {},
   "cell_type": "markdown",
   "id": "82806007-d4c1-4e38-bea5-eb126f9b664c",
   "metadata": {},
   "source": [
    "Create alias table (in form of the two rows `probs` and `alias`')"
   ]
  },
  {
   "cell_type": "code",
   "execution_count": null,
   "id": "456a95d2-acda-4601-9a99-aa579f164820",
   "metadata": {},
   "outputs": [],
   "source": [
    "def alias_table(d):\n",
    "    \"\"\"\n",
    "    :param list d: list of probabilities of probability distribution\n",
    "    :return probs, alias: alias table for Walker's alias method\n",
    "    \"\"\"\n",
    "    # convert to numpy.array for convenient methods\n",
    "    d = np.array(d)\n",
    "    n_d = n * d\n",
    "\n",
    "    # initialize probs-alias-table\n",
    "    probs = np.array(n * [None])\n",
    "    alias = np.zeros(n, dtype='int32')\n",
    "\n",
    "    for i in range(n_d.size - 1):\n",
    "        # choose index (col) with area left\n",
    "        lesser = np.where(n_d < 1)[0][0]  \n",
    "        # choose index (col) with area overshoot\n",
    "        greater = np.where(n_d >= 1)[0][0]\n",
    "        # save save Pr(l) to probs[l]\n",
    "        probs[lesser] = n_d[lesser]\n",
    "        # save index of overshoot probability to alias[l]\n",
    "        alias[lesser] = greater\n",
    "        # reduce n_d[g] by probability mass distributed to alias[l]\n",
    "        n_d[greater] = n_d[greater] - (1 - n_d[lesser])\n",
    "        # remove probability mass used in probs[l]\n",
    "        n_d[lesser] = None\n",
    "\n",
    "    # take care of last probability left over\n",
    "    probs[np.where(probs == None)[0][0]] = 1\n",
    "    \n",
    "    return probs, alias"
   ]
  },
  {
   "attachments": {},
   "cell_type": "markdown",
   "id": "f4a3e466-e335-41c2-8126-430b1e0a9939",
   "metadata": {},
   "source": [
    "With `probs` and `alias` we can sample by using only the $\\mathcal{U}_{[0,1)}$ generator `numpy.random.uniform(0,1)`:\n"
   ]
  },
  {
   "cell_type": "code",
   "execution_count": null,
   "id": "bf06fe9e-8d73-4727-a29f-6a32a0d8a5cf",
   "metadata": {},
   "outputs": [],
   "source": [
    "def alias_sample(probs, alias):\n",
    "    \"\"\"\n",
    "    :param probs: probability row of alias table\n",
    "    :param alias: alias row of alias table\n",
    "    :return:\n",
    "    \"\"\"\n",
    "    omega = n*np.random.uniform(0,1) # cont. Uniform distribution\n",
    "    rrow = int(omega) # discrete Uniform distribution\n",
    "    rcol = omega - rrow\n",
    "\n",
    "    if rcol < probs[rrow]: return rrow\n",
    "    else: return alias[rrow]"
   ]
  },
  {
   "attachments": {},
   "cell_type": "markdown",
   "id": "3c079745-946c-40fd-88cd-9d1844e6518f",
   "metadata": {},
   "source": [
    "By composing the functions `alias_table` and `alias_sample` we obtain an implementation of the alias method:"
   ]
  },
  {
   "cell_type": "code",
   "execution_count": null,
   "id": "ab2a122a-8ce2-48b5-a46b-ea91cd74257e",
   "metadata": {},
   "outputs": [],
   "source": [
    "def alias_method(d):\n",
    "    \"\"\"\n",
    "    :param p: list of probabilities of probability distribution\n",
    "    :return: sample from probability distribution\n",
    "    \"\"\"\n",
    "    probs, alias = alias_table(d)\n",
    "    return alias_sample(probs, alias)"
   ]
  },
  {
   "attachments": {},
   "cell_type": "markdown",
   "id": "8e642da6-2c43-4976-aedf-a8074124ab27",
   "metadata": {},
   "source": [
    "Checking sample mean and sample variance for plausibility:"
   ]
  },
  {
   "cell_type": "code",
   "execution_count": null,
   "id": "3d61da75-8170-40f7-859f-9904f37a7910",
   "metadata": {},
   "outputs": [],
   "source": [
    "# initialize sample array:\n",
    "sample = []\n",
    "for i in range(10**4):\n",
    "    sample.append(alias_method(d))\n",
    "\n",
    "# calculate mean and variance\n",
    "print(f'mean = {np.mean(sample)}, variance = {np.var(sample)}')"
   ]
  },
  {
   "attachments": {},
   "cell_type": "markdown",
   "id": "a49144fa-30a1-43ef-af1b-16843d505bae",
   "metadata": {},
   "source": [
    "# Application to the epidemic"
   ]
  },
  {
   "attachments": {},
   "cell_type": "markdown",
   "id": "9f3094dd-64c2-4174-a11c-98a2903b670c",
   "metadata": {},
   "source": [
    "We assume probabilites $r_i$ of transmitting a disease on te $i$-th day of infection:"
   ]
  },
  {
   "cell_type": "code",
   "execution_count": null,
   "id": "6d4c27e1-7906-4968-b50c-2eeeba054cd3",
   "metadata": {},
   "outputs": [],
   "source": [
    "r = np.array([0, 0, 0, 0, 0.1, 0.3, 0.4, 0.4, 0.2, 0])"
   ]
  },
  {
   "attachments": {},
   "cell_type": "markdown",
   "id": "1b5ec753-527d-4ae3-b2dd-78a4a2fa39e2",
   "metadata": {},
   "source": [
    "For every day $i$, we sample several $p(i)$ with $\\lambda = 4$ for the number of contacts:"
   ]
  },
  {
   "cell_type": "code",
   "execution_count": null,
   "id": "69d092fa-aa46-4f3e-8d9b-5e92ac8ce7f4",
   "metadata": {},
   "outputs": [],
   "source": [
    "n_samples=10**3\n",
    "c = np.zeros((n_samples, 10))\n",
    "for i in range (n_samples):\n",
    "    for j in range(10):\n",
    "        c[i,j] = alias_method(d)"
   ]
  },
  {
   "attachments": {},
   "cell_type": "markdown",
   "id": "da96c0e9-8835-4ee6-8785-fa54b80d9704",
   "metadata": {},
   "source": [
    "Calculate $\\sum_{i=0}^{9} r_iX_i = \\mathbf{r}^\\intercal \\mathbf{X}$ for every of the \"indivdual samples\":"
   ]
  },
  {
   "cell_type": "code",
   "execution_count": null,
   "id": "e75f23e4-f4a9-4f88-b037-9c49fbfa67ab",
   "metadata": {},
   "outputs": [],
   "source": [
    "for i in range(10):\n",
    "    print(f'Average number of people infected by individual {i}: {np.dot(r, c[i])}')"
   ]
  },
  {
   "attachments": {},
   "cell_type": "markdown",
   "id": "ec6bd4d3-d37e-41b6-8f20-18a156a13600",
   "metadata": {},
   "source": [
    "Average over all samples:"
   ]
  },
  {
   "cell_type": "code",
   "execution_count": null,
   "id": "1841676d-acc1-44ec-be54-41eb85b59519",
   "metadata": {},
   "outputs": [],
   "source": [
    "print(np.mean(np.matmul(c,r)))"
   ]
  },
  {
   "attachments": {},
   "cell_type": "markdown",
   "id": "3529374d-51f4-4d1e-9771-45e973765667",
   "metadata": {},
   "source": [
    "Compare to\n",
    "$$ \\mathrm{E}[\\mathbf{r}^\\intercal \\mathbf{X}] = \\mathrm{E} \\left[\\sum_{i=0}^{9} r_iX_i \\right] = \\mathrm{r}^\\intercal \\mathrm{E}\\mathbf{X} = \\mathrm{r}^\\intercal \\mathbf{1} \\lambda = \\mathrm{r}^\\intercal \\mathbf{4} \\approx 5.6$$ "
   ]
  },
  {
   "cell_type": "code",
   "execution_count": null,
   "id": "995d08c8-233b-4ec2-94ce-8efb696cc143",
   "metadata": {},
   "outputs": [],
   "source": []
  }
 ],
 "metadata": {
  "kernelspec": {
   "display_name": "Python 3 (ipykernel)",
   "language": "python",
   "name": "python3"
  },
  "language_info": {
   "codemirror_mode": {
    "name": "ipython",
    "version": 3
   },
   "file_extension": ".py",
   "mimetype": "text/x-python",
   "name": "python",
   "nbconvert_exporter": "python",
   "pygments_lexer": "ipython3",
   "version": "3.10.6"
  }
 },
 "nbformat": 4,
 "nbformat_minor": 5
}
